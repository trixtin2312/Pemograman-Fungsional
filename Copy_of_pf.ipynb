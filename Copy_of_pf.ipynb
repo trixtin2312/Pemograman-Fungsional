{
  "nbformat": 4,
  "nbformat_minor": 0,
  "metadata": {
    "colab": {
      "provenance": [],
      "include_colab_link": true
    },
    "kernelspec": {
      "name": "python3",
      "display_name": "Python 3"
    },
    "language_info": {
      "name": "python"
    }
  },
  "cells": [
    {
      "cell_type": "markdown",
      "metadata": {
        "id": "view-in-github",
        "colab_type": "text"
      },
      "source": [
        "<a href=\"https://colab.research.google.com/github/trixtin2312/Pemograman-Fungsional/blob/main/Copy_of_pf.ipynb\" target=\"_parent\"><img src=\"https://colab.research.google.com/assets/colab-badge.svg\" alt=\"Open In Colab\"/></a>"
      ]
    },
    {
      "cell_type": "markdown",
      "source": [
        "Ref:\n",
        "https://refactoring.guru/design-patterns/python"
      ],
      "metadata": {
        "id": "gzJu30MaR17i"
      }
    },
    {
      "cell_type": "markdown",
      "source": [
        "**Creational Design Pattern**"
      ],
      "metadata": {
        "id": "Wpv-jtSSRvbt"
      }
    },
    {
      "cell_type": "markdown",
      "source": [
        "Singleton"
      ],
      "metadata": {
        "id": "Lq7_UjkqR_2Q"
      }
    },
    {
      "cell_type": "code",
      "execution_count": null,
      "metadata": {
        "id": "9A4cuq7_RC5w",
        "colab": {
          "base_uri": "https://localhost:8080/",
          "height": 35
        },
        "outputId": "1d348be0-b60e-443d-888a-2e285e5680cb"
      },
      "outputs": [
        {
          "output_type": "execute_result",
          "data": {
            "text/plain": [
              "'Kurikulum 2020'"
            ],
            "application/vnd.google.colaboratory.intrinsic+json": {
              "type": "string"
            }
          },
          "metadata": {},
          "execution_count": 2
        }
      ],
      "source": [
        "class Singleton:\n",
        "  __instance = None\n",
        "  def __new__(cls, val= None):\n",
        "    if Singleton.__instance is None:\n",
        "        Singleton.__instance = object.__new__(cls)\n",
        "    Singleton.__instance.val = val\n",
        "    return Singleton.__instance\n",
        "\n",
        "kurikulum_lama = Singleton()\n",
        "kurikulum_lama.val = \"Kurikulum 2017\"\n",
        "kurikulum_lama.val\n",
        "\n",
        "kurikulum_baru = Singleton()\n",
        "kurikulum_baru.val = \"Kurikulum 2020\"\n",
        "kurikulum_baru.val\n"
      ]
    },
    {
      "cell_type": "markdown",
      "source": [
        "Protoype"
      ],
      "metadata": {
        "id": "KAYTrzFEWG1k"
      }
    },
    {
      "cell_type": "code",
      "source": [
        "class Buku(object):\n",
        "  judul = None\n",
        "  genre = None\n",
        "  author = None\n",
        "  penerbit = None\n",
        "\n",
        "  def setBukuJudul(self, judul):\n",
        "    self.judul = judul\n",
        "    return self\n",
        "\n",
        "  def setBukuGenre(self, genre):\n",
        "    self.genre = genre\n",
        "    return self\n",
        "\n",
        "  def setBukuAuthor(self, author):\n",
        "    self.author = author\n",
        "    return self\n",
        "\n",
        "  def setBukuPenerbit(self, penerbit):\n",
        "    self.penerbit = penerbit\n",
        "    return self\n",
        "\n",
        "  def getBuku(self):\n",
        "    msg = \"Buku telah diterbitkan\\n\"\n",
        "    msg += f\"Judul: {self.judul}\\n\"\n",
        "    msg += f\"Genre: {self.genre}\\n\"\n",
        "    msg += f\"Author: {self.author}\\n\"\n",
        "    msg += f\"Penerbit: {self.penerbit}\\n\"\n",
        "\n",
        "    return msg\n",
        "\n",
        "  def copyBuku(self):\n",
        "    return Buku() \\\n",
        "    .setBukuJudul(self.judul) \\\n",
        "    .setBukuGenre(self.genre) \\\n",
        "    .setBukuAuthor(self.author) \\\n",
        "    .setBukuPenerbit(self.penerbit) \\\n",
        "\n",
        "buku1 = Buku()\n",
        "buku1.setBukuJudul(\"Bumi\")\n",
        "buku1.setBukuGenre(\"Fiksi\")\n",
        "buku1.setBukuAuthor(\"Tere Liye\")\n",
        "buku1.setBukuPenerbit(\"Gramedia Pustaka Utama\")\n",
        "print(buku1.getBuku())\n",
        "\n",
        "buku2 = buku1.copyBuku()\n",
        "buku2.setBukuJudul(\"Matahari\")\n",
        "print(buku2.getBuku())"
      ],
      "metadata": {
        "id": "nzYOKl1MWPNd",
        "outputId": "dfcbe99e-a56e-469c-e9b9-b46424bb1a04",
        "colab": {
          "base_uri": "https://localhost:8080/"
        }
      },
      "execution_count": null,
      "outputs": [
        {
          "output_type": "stream",
          "name": "stdout",
          "text": [
            "Buku telah diterbitkan\n",
            "Judul: Bumi\n",
            "Genre: Fiksi\n",
            "Author: Tere Liye\n",
            "Penerbit: Gramedia Pustaka Utama\n",
            "\n",
            "Buku telah diterbitkan\n",
            "Judul: Matahari\n",
            "Genre: Fiksi\n",
            "Author: Tere Liye\n",
            "Penerbit: Gramedia Pustaka Utama\n",
            "\n"
          ]
        }
      ]
    },
    {
      "cell_type": "markdown",
      "source": [
        "Abstract Factory"
      ],
      "metadata": {
        "id": "SKnfJuVOWP0M"
      }
    },
    {
      "cell_type": "code",
      "source": [
        "from abc import ABC, abstractmethod\n",
        "\n",
        "class Browser(ABC):\n",
        "    \"\"\"\n",
        "    Membuat abstract produk A\n",
        "    \"\"\"\n",
        "\n",
        "    @abstractmethod\n",
        "    def create_search_toolbar(self):\n",
        "        pass\n",
        "\n",
        "    @abstractmethod\n",
        "    def create_browser_window(self):\n",
        "        pass\n",
        "\n",
        "class Messenger(ABC):\n",
        "    \"\"\"\n",
        "    Membuat abstract produk B\n",
        "    \"\"\"\n",
        "\n",
        "    @abstractmethod\n",
        "    def create_messenger_window(self):\n",
        "        pass\n",
        "\n",
        "class EdgeBrowser(Browser):\n",
        "    \"\"\"\n",
        "    Concrete produk\n",
        "    Mengimpementasikan metode abstract pada kelas dasar Browser\n",
        "    \"\"\"\n",
        "\n",
        "    def create_search_toolbar(self):\n",
        "        print(\"Alat Pencarian Dibuat!\")\n",
        "\n",
        "    def create_browser_window(self):\n",
        "        print(\"Jendela Peramban Dibuat\")\n",
        "\n",
        "\n",
        "class EdgeMessenger(Messenger):\n",
        "    \"\"\"\n",
        "    Concrete produk\n",
        "    Mengimpementasikan metode abstract pada kelas dasar Messenger\n",
        "    \"\"\"\n",
        "\n",
        "    def create_messenger_window(self):\n",
        "        print(\"Jendela Messenger Dibuat\")\n",
        "\n",
        "class KeamananBrowser(Browser):\n",
        "    \"\"\"\n",
        "    Concrete produk\n",
        "    Mengimpementasikan metode abstract pada kelas dasar Browser\n",
        "    \"\"\"\n",
        "\n",
        "    # Browser base class\n",
        "    def create_search_toolbar(self):\n",
        "        print(\"Browser Aman - Alat Pencarian Dibuat\")\n",
        "\n",
        "    # Browser base class\n",
        "    def create_browser_window(self):\n",
        "        print(\"Browser Aman - Jendela Pencarian Dibuat\")\n",
        "\n",
        "    def create_incognito_mode(self):\n",
        "        print(\"Browser Aman - Mode Penyamaran Dibuat\")\n",
        "\n",
        "\n",
        "class KeamananMassanger(Messenger):\n",
        "    \"\"\"\n",
        "    Concrete produk\n",
        "    Mengimpementasikan metode abstract pada kelas dasar Browser\n",
        "    \"\"\"\n",
        "\n",
        "    # Messenger base class\n",
        "    def create_messenger_window(self):\n",
        "        print(\"Messenger Aman - Jendela Messenger Dibuat\")\n",
        "\n",
        "    def create_privacy_filter(self):\n",
        "        print(\"Messenger Aman - Filter Privasi Dibuat\")\n",
        "\n",
        "    def disappearing_messages(self):\n",
        "        print(\"Messenger Aman - Fitur Pesan Menghilang Diaktifkan\")\n",
        "\n",
        "class AbstractFactory(ABC):\n",
        "    \"\"\"\n",
        "    The Abstract Factory\n",
        "    \"\"\"\n",
        "\n",
        "    @abstractmethod\n",
        "    def create_browser(self):\n",
        "        pass\n",
        "\n",
        "    @abstractmethod\n",
        "    def create_messenger(self):\n",
        "        pass\n",
        "\n",
        "class EdgeProdukFac(AbstractFactory):\n",
        "    \"\"\"\n",
        "    Concrete Factory\n",
        "    Mengimplentasikan operasi berikut untuk membuat concrete dari objek produk\n",
        "    \"\"\"\n",
        "\n",
        "    def create_browser(self):\n",
        "        return EdgeBrowser()\n",
        "\n",
        "    def create_messenger(self):\n",
        "        return EdgeMessenger()\n",
        "\n",
        "class KeamananProduk(AbstractFactory):\n",
        "    \"\"\"\n",
        "    Concrete Factory\n",
        "    Mengimplentasikan operasi berikut untuk membuat concrete dari objek produk\n",
        "    \"\"\"\n",
        "\n",
        "    def create_browser(self):\n",
        "        return KeamananBrowser()\n",
        "\n",
        "    def create_messenger(self):\n",
        "        return KeamananMassanger()\n",
        "\n",
        "def main():\n",
        "    for factory in (EdgeProdukFac(), KeamananProduk()):\n",
        "        product_a = factory.create_browser()\n",
        "        product_b = factory.create_messenger()\n",
        "        product_a.create_browser_window()\n",
        "        product_a.create_search_toolbar()\n",
        "        product_b.create_messenger_window()\n",
        "\n",
        "if __name__ == \"__main__\":\n",
        "    main()"
      ],
      "metadata": {
        "colab": {
          "base_uri": "https://localhost:8080/"
        },
        "id": "ss7ciDAdo9eg",
        "outputId": "9031d772-2407-41c3-fceb-7172716550a9"
      },
      "execution_count": null,
      "outputs": [
        {
          "output_type": "stream",
          "name": "stdout",
          "text": [
            "Browser Window Created\n",
            "Search Toolbar Created\n",
            "Messenger Window Created\n",
            "Secure Browser - Browser Window Created\n",
            "Secure Browser - Search Toolbar Created\n",
            "Secure Messenger - Messenger Window Created\n"
          ]
        }
      ]
    },
    {
      "cell_type": "markdown",
      "source": [
        "================================================================================"
      ],
      "metadata": {
        "id": "t7JG98xUWR2C"
      }
    },
    {
      "cell_type": "markdown",
      "source": [
        "**STRUCTURAL**"
      ],
      "metadata": {
        "id": "GRWLcMqmTaG1"
      }
    },
    {
      "cell_type": "markdown",
      "source": [
        "Decorator"
      ],
      "metadata": {
        "id": "FZy2VzZET8I7"
      }
    },
    {
      "cell_type": "code",
      "source": [
        "from abc import ABC, abstractmethod\n",
        "\n",
        "class PlayerDecorator(ABC):\n",
        "    @abstractmethod\n",
        "    def movement(self, c):\n",
        "        pass\n",
        "\n",
        "class BasePlayer:\n",
        "    def __init__(self):\n",
        "        pass\n",
        "    \n",
        "    def movement(self, c):\n",
        "        if   c=='w':\n",
        "            print('moving forward')\n",
        "        elif c == 'a':\n",
        "            print('moving left')\n",
        "        elif c == 's':\n",
        "            print('moving back')\n",
        "        elif c == 'd':\n",
        "            print('moving right')\n",
        "        elif c == 'e':\n",
        "            print('attacking ')\n",
        "        elif c == ' ':\n",
        "            print('jumping')\n",
        "        else:\n",
        "            print('undefined command')\n",
        "            \n",
        "class player1(PlayerDecorator):\n",
        "    def __init__(self, wrapee):\n",
        "        self.wrapee = wrapee\n",
        "        \n",
        "    def movement(self, c):\n",
        "        if c == 'e':\n",
        "            print('using fire ', end='')\n",
        "        \n",
        "        self.wrapee.movement(c)\n",
        "        \n",
        "class player2(PlayerDecorator):\n",
        "    def __init__(self, wrapee):\n",
        "        self.wrapee = wrapee\n",
        "        \n",
        "    def movement(self, c):\n",
        "        if c == 'e':\n",
        "            print('with arrows ', end='')\n",
        "            \n",
        "        self.wrapee.movement(c)\n",
        "        \n",
        "class player3(PlayerDecorator):\n",
        "    def __init__(self, wrapee):\n",
        "        self.wrapee = wrapee\n",
        "        \n",
        "    def movement(self, c):\n",
        "        if c == ' ':\n",
        "            print('double jump')\n",
        "        else:\n",
        "            self.wrapee.movement(c)\n",
        "\n",
        "print(\"Base Player\")\n",
        "player = BasePlayer()\n",
        "player.movement('e')\n",
        "player.movement(' ')\n",
        "\n",
        "print(\"Player 1\")\n",
        "player = player1(player)\n",
        "player.movement('e')\n",
        "player.movement(' ')\n",
        "\n",
        "print(\"Player 3\")\n",
        "player = player3(player)\n",
        "player.movement('e')\n",
        "player.movement(' ')\n",
        "\n",
        "#decorator\n",
        "print(\"Player 2\")\n",
        "player = player2(player)\n",
        "player.movement('e')\n",
        "player.movement(' ')"
      ],
      "metadata": {
        "id": "DjLz7x5UT9u7",
        "colab": {
          "base_uri": "https://localhost:8080/"
        },
        "outputId": "87da2dd4-afe8-47d9-87c0-1867eb8af100"
      },
      "execution_count": null,
      "outputs": [
        {
          "output_type": "stream",
          "name": "stdout",
          "text": [
            "attacking \n",
            "jumping\n",
            "using fire attacking \n",
            "jumping\n",
            "using fire attacking \n",
            "double jump\n",
            "with arrows using fire attacking \n",
            "double jump\n"
          ]
        }
      ]
    },
    {
      "cell_type": "markdown",
      "source": [
        "2. Proxy\n"
      ],
      "metadata": {
        "id": "Gw7Q2Gf0T-nS"
      }
    },
    {
      "cell_type": "code",
      "source": [
        "\n",
        "from abc import ABC, abstractmethod\n",
        "\n",
        "class Customer:\n",
        "    \"\"\"Customer object\"\"\"\n",
        "    def __init__(self,age):\n",
        "        self.__age = age\n",
        "        \n",
        "    def get_age(self):\n",
        "        return self.__age\n",
        "    \n",
        "class IChannel(ABC):\n",
        "    \n",
        "    @abstractmethod\n",
        "    def provide_broadcast(self):\n",
        "        \"\"\"broadcasting\"\"\"\n",
        "        \n",
        "class Channel(IChannel):\n",
        "    \n",
        "    def provide_broadcast(self):\n",
        "        print(\"Broadcast started...\")\n",
        "        \n",
        "class ProxyChannel(IChannel):\n",
        "    \n",
        "    def __init__(self,customer: Customer):\n",
        "        self.customer = customer\n",
        "        self.channel = Channel()\n",
        "        \n",
        "    def provide_broadcast(self):\n",
        "        customer_age = self.customer.get_age()\n",
        "        if customer_age > 18:\n",
        "            self.channel.provide_broadcast()\n",
        "            print(\"this service is registered for billing.\")\n",
        "        else:\n",
        "            print(\"sorry, this service is not allowed for the customers under the age of 18.\")\n",
        "\n",
        "\n",
        "# Bela = Customer(17)\n",
        "# P = ProxyChannel(Bela)\n",
        "# P.provide_broadcast()\n",
        "\n",
        "Andi = Customer(20)\n",
        "P = ProxyChannel(Andi)\n",
        "P.provide_broadcast()\n",
        "\n"
      ],
      "metadata": {
        "id": "Reuo4IxoT_gC",
        "colab": {
          "base_uri": "https://localhost:8080/"
        },
        "outputId": "5918dc75-c59b-4528-d550-27c25fa3c868"
      },
      "execution_count": null,
      "outputs": [
        {
          "output_type": "stream",
          "name": "stdout",
          "text": [
            "Broadcast started...\n",
            "this service is registered for billing.\n"
          ]
        }
      ]
    },
    {
      "cell_type": "markdown",
      "source": [
        "3"
      ],
      "metadata": {
        "id": "SmQWOP1PT_zi"
      }
    },
    {
      "cell_type": "code",
      "source": [],
      "metadata": {
        "id": "Dc5hSR4xUBsE"
      },
      "execution_count": null,
      "outputs": []
    },
    {
      "cell_type": "markdown",
      "source": [
        "================================================================================"
      ],
      "metadata": {
        "id": "LXAHt-JEUFkC"
      }
    },
    {
      "cell_type": "markdown",
      "source": [
        "**BEHAVIORAL**"
      ],
      "metadata": {
        "id": "rmw8O6-pUG3q"
      }
    },
    {
      "cell_type": "markdown",
      "source": [
        "1 Chain Of Responsibility"
      ],
      "metadata": {
        "id": "fnUzy-ZFUJpE"
      }
    },
    {
      "cell_type": "code",
      "source": [
        "import sys\n",
        "\n",
        "class Handler:\n",
        "    def __init__(self):\n",
        "        self._successor = None\n",
        "\n",
        "    def setHandler(self, successor):\n",
        "        self._successor = successor\n",
        "\n",
        "    def handleRequest(self):\n",
        "        if (self._successor is not None):\n",
        "            self._successor.handleRequest();\n",
        "\n",
        "\n",
        "\n",
        "class ConcreteHandler1(Handler):\n",
        "    def __init__(self):\n",
        "        Handler.__init__(self)\n",
        "        self._can_handle = False\n",
        "\n",
        "    def handleRequest(self):\n",
        "        if (self._can_handle):\n",
        "            print(\"Handled by Concrete Handler 1.\")\n",
        "        else:\n",
        "            print(\"Cannot be handled by Handler 1.\")\n",
        "            super().handleRequest()\n",
        "\n",
        "\n",
        "class ConcreteHandler2(Handler):\n",
        "    def __init__(self):\n",
        "        Handler.__init__(self)\n",
        "        self._can_handle = True\n",
        "\n",
        "    def handleRequest(self):\n",
        "        if (self._can_handle):\n",
        "            print(\"Handled by Concrete Handler 2.\")\n",
        "        else:\n",
        "            print(\"Cannot be handled by Handler 2.\")\n",
        "            super().handleRequest()\n",
        "\n",
        "\n",
        "if __name__ == \"__main__\":\n",
        "    handler1 = ConcreteHandler1()\n",
        "    handler2 = ConcreteHandler2()\n",
        "\n",
        "    handler1.setHandler(handler2)\n",
        "    handler1.handleRequest()"
      ],
      "metadata": {
        "id": "0fjpKEoaUKZJ",
        "colab": {
          "base_uri": "https://localhost:8080/"
        },
        "outputId": "9a31957a-3cf0-482e-db93-05f7f1335d0a"
      },
      "execution_count": null,
      "outputs": [
        {
          "output_type": "stream",
          "name": "stdout",
          "text": [
            "Cannot be handled by Handler 1.\n",
            "Handled by Concrete Handler 2.\n"
          ]
        }
      ]
    },
    {
      "cell_type": "markdown",
      "source": [
        "2. Strategy"
      ],
      "metadata": {
        "id": "zkxl-xdEUKxK"
      }
    },
    {
      "cell_type": "code",
      "source": [
        "import random \n",
        "def create(l: list):\n",
        "  u = lambda l: sorted(l)\n",
        "  l = u(l)\n",
        "\n",
        "  def append(i):\n",
        "    l.append(i)\n",
        "  def set_sort(sorter):\n",
        "    nonlocal u\n",
        "    u = sorter\n",
        "  def sort():\n",
        "    nonlocal l\n",
        "    l = u(l)\n",
        "  def get():\n",
        "    nonlocal l\n",
        "    return l \n",
        "\n",
        "  return append, set_sort, sort,get\n",
        "\n",
        "append, set_sort, sort, get = create ([\"A\",\"B\", \"C\",\"D\"])\n",
        "\n",
        "sort()\n",
        "print(get())\n",
        "\n",
        "set_sort(lambda x: sorted(x, reverse=True))\n",
        "sort()\n",
        "print(get())\n",
        "\n",
        "set_sort(lambda x:sorted (x, key = lambda _:  random.random()))\n",
        "sort()\n",
        "print(get())\n",
        "\n",
        "\n"
      ],
      "metadata": {
        "id": "5hqnJBALULSC",
        "colab": {
          "base_uri": "https://localhost:8080/"
        },
        "outputId": "65599c47-3bcb-48f5-b08d-f03b14c2f175"
      },
      "execution_count": null,
      "outputs": [
        {
          "output_type": "stream",
          "name": "stdout",
          "text": [
            "['A', 'B', 'C', 'D']\n",
            "['D', 'C', 'B', 'A']\n",
            "['D', 'B', 'C', 'A']\n"
          ]
        }
      ]
    },
    {
      "cell_type": "markdown",
      "source": [
        "3 Iterator"
      ],
      "metadata": {
        "id": "0cwCrAIyULr6"
      }
    },
    {
      "cell_type": "code",
      "source": [
        "def count_on(count):\n",
        "    # Our list\n",
        "    number_of_words = [\"A\", \"В\", \"C\", \"D\", \"E\", \"L\"]\n",
        "    iterator = zip(range(count), number_of_words)\n",
        "    for position, alphabets in iterator:\n",
        "        yield alphabets\n",
        "\n",
        "\n",
        "for num in count_on(5):\n",
        "    print(\"{}\".format(num))\n"
      ],
      "metadata": {
        "id": "4qfFfpxIUMO6",
        "colab": {
          "base_uri": "https://localhost:8080/"
        },
        "outputId": "ffbffefb-73e0-4b0c-8e65-20efad0cc81a"
      },
      "execution_count": null,
      "outputs": [
        {
          "output_type": "stream",
          "name": "stdout",
          "text": [
            "A\n",
            "В\n",
            "C\n",
            "D\n",
            "E\n"
          ]
        }
      ]
    },
    {
      "cell_type": "markdown",
      "source": [
        "Command"
      ],
      "metadata": {
        "id": "fH6xr_2_WXdu"
      }
    },
    {
      "cell_type": "code",
      "source": [
        "from abc import ABC, abstractmethod\n",
        "\n",
        "class Order(ABC):\n",
        "\n",
        "    @abstractmethod\n",
        "    def process(self):\n",
        "        pass\n",
        "\n",
        "class BuyStock(Order):\n",
        "    def __init__(self, stock):\n",
        "        self.stock = stock\n",
        "\n",
        "    def process(self):\n",
        "        self.stock.buy()\n",
        "\n",
        "class SellStock(Order):\n",
        "    def __init__(self, stock):\n",
        "        self.stock = stock\n",
        "\n",
        "    def process(self):\n",
        "        self.stock.sell()\n",
        "\n",
        "class Trade:\n",
        "    def buy(self):\n",
        "        print(\"Stock buy request placed.\")\n",
        "\n",
        "    def sell(self):\n",
        "        print(\"Stock sell request placed.\")\n",
        "\n",
        "\n",
        "class Invoker:\n",
        "    def __init__(self):\n",
        "        self._queue = []\n",
        "\n",
        "    def process_order(self, order):\n",
        "        self._queue.append(order)\n",
        "        order.process()\n",
        "\n",
        "trade = Trade()\n",
        "buy_stock = BuyStock(trade)\n",
        "sell_stock = SellStock(trade)\n",
        "\n",
        "invoker = Invoker()\n",
        "invoker.process_order(buy_stock)\n",
        "invoker.process_order(sell_stock)"
      ],
      "metadata": {
        "id": "vJQIcvlGWdex"
      },
      "execution_count": null,
      "outputs": []
    }
  ]
}